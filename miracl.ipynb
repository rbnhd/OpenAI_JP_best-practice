{
 "cells": [
  {
   "cell_type": "code",
   "execution_count": null,
   "metadata": {},
   "outputs": [],
   "source": [
    "%pip install datasets pandas azure-identity \"azure-search-documents==11.6.0b1\""
   ]
  },
  {
   "cell_type": "code",
   "execution_count": null,
   "metadata": {},
   "outputs": [],
   "source": [
    "import datasets\n",
    "\n",
    "lang='ja'  # or any of the 16 languages\n",
    "miracl_corpus = datasets.load_dataset('miracl/miracl-corpus', lang, cache_dir='.cache')['train']\n",
    "for doc in miracl_corpus:\n",
    "   docid = doc['docid']\n",
    "   title = doc['title']\n",
    "   text = doc['text']"
   ]
  },
  {
   "cell_type": "code",
   "execution_count": null,
   "metadata": {},
   "outputs": [],
   "source": [
    "lang='ja'  # or any of the 16 languages\n",
    "miracl = datasets.load_dataset('miracl/miracl', lang, use_auth_token=True, cache_dir='.cache')\n",
    "\n",
    "# training set:\n",
    "for data in miracl['train']:  # or 'dev', 'testA'\n",
    "  query_id = data['query_id']\n",
    "  query = data['query']\n",
    "  positive_passages = data['positive_passages']\n",
    "  negative_passages = data['negative_passages']\n",
    "  \n",
    "  for entry in positive_passages: # OR 'negative_passages'\n",
    "    docid = entry['docid']\n",
    "    title = entry['title']\n",
    "    text = entry['text']"
   ]
  },
  {
   "cell_type": "code",
   "execution_count": null,
   "metadata": {},
   "outputs": [],
   "source": [
    "from azure.identity.aio import DefaultAzureCredential\n",
    "from azure.search.documents.aio import SearchClient\n",
    "from azure.search.documents.indexes.aio import SearchIndexClient, SearchIndexerClient\n",
    "from azure.search.documents.indexes.models import (\n",
    "    SimpleField,\n",
    "    SearchableField,\n",
    "    SearchIndex,\n",
    "    SearchIndexer,\n",
    "    SearchFieldDataType,\n",
    ")\n",
    "import os\n",
    "ANALYSER = \"ja.microsoft\"\n",
    "\n",
    "service_endpoint = os.getenv(\"AZURE_SEARCH_ENDPOINT\")\n",
    "index_name = 'test-miracl-index-ja-microsoft'\n",
    "azure_cred = DefaultAzureCredential()\n",
    "\n",
    "search_client = SearchClient(service_endpoint, index_name, azure_cred)\n",
    "index_client = SearchIndexClient(service_endpoint, azure_cred)\n",
    "indexer_client = SearchIndexerClient(service_endpoint, azure_cred)\n",
    "\n",
    "async def create_miracl_corpus_index(name):\n",
    "    if await index_client.get_index(name):\n",
    "        return\n",
    "    fields = [\n",
    "        SimpleField(name=\"docid\", type=SearchFieldDataType.String, key=True),\n",
    "        SimpleField(name=\"title\", type=SearchFieldDataType.String),\n",
    "        SearchableField(name=\"text\", type=SearchFieldDataType.String, analyzer_name=ANALYSER),\n",
    "    ]\n",
    "    index = SearchIndex(\n",
    "        name=name,\n",
    "        fields=fields)\n",
    "    result = await index_client.create_index(index)\n",
    "    return result\n",
    "\n",
    "async def create_indexer(name):\n",
    "    # Create an indexer\n",
    "    indexer_name = f\"{name}-indexer\"\n",
    "\n",
    "    indexer = SearchIndexer(\n",
    "        name=indexer_name,\n",
    "        description=\"Indexer to index documents and generate embeddings\",\n",
    "        skillset_name=f\"{name}-skillset\",\n",
    "        target_index_name=name,\n",
    "        data_source_name=f\"miracl-cosmos\",\n",
    "    )\n",
    "\n",
    "    return await indexer_client.create_or_update_indexer(indexer)\n",
    "\n",
    "await create_miracl_corpus_index(index_name)\n",
    "await create_indexer(index_name)\n"
   ]
  }
 ],
 "metadata": {
  "kernelspec": {
   "display_name": ".venv",
   "language": "python",
   "name": "python3"
  },
  "language_info": {
   "codemirror_mode": {
    "name": "ipython",
    "version": 3
   },
   "file_extension": ".py",
   "mimetype": "text/x-python",
   "name": "python",
   "nbconvert_exporter": "python",
   "pygments_lexer": "ipython3",
   "version": "3.11.1"
  }
 },
 "nbformat": 4,
 "nbformat_minor": 2
}
